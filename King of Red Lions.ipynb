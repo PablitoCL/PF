{
 "cells": [
  {
   "cell_type": "code",
   "execution_count": 1,
   "metadata": {},
   "outputs": [],
   "source": [
    "##Libraries\n",
    "import sys\n",
    "import subprocess\n",
    "from typing import Pattern\n",
    "import win32com.client\n",
    "import os\n",
    "import datetime\n",
    "import re\n",
    "import time\n",
    "import csv\n",
    "\n",
    "import json\n",
    "import pandas as pd\n",
    "import numpy as np\n",
    "from bs4 import BeautifulStoneSoup\n",
    "from datetime import datetime\n",
    "\n",
    "from selenium import webdriver\n",
    "from selenium.webdriver.common.keys import Keys\n",
    "from selenium.webdriver.support.ui import WebDriverWait\n",
    "from selenium.webdriver.common.by import By\n",
    "from selenium.webdriver.support import expected_conditions as EC\n",
    "from selenium.common.exceptions import TimeoutException\n",
    "\n",
    "price = \"\"\n",
    "port = \"\"\n",
    "target = []"
   ]
  },
  {
   "cell_type": "code",
   "execution_count": 2,
   "metadata": {},
   "outputs": [],
   "source": [
    "#Excepciones webdriver\n",
    "options = webdriver.ChromeOptions()\n",
    "options.add_argument(\"--disable-notifications\")\n",
    "options.add_argument(\"--disable-extensions\")\n",
    "options.add_argument(\"--disable-gpu\")\n",
    "options.add_argument(\"--disable-infobars\")\n",
    "options.add_argument(\"--disable-web-security\")\n",
    "options.add_argument(\"--no-sandbox\")\n",
    "options.add_argument(\"window-size=1366,768\")\n",
    "options.add_argument(\"--headless\")\n",
    "\n",
    "chrome_prefs = {}\n",
    "options.experimental_options[\"prefs\"] = chrome_prefs\n",
    "chrome_prefs[\"profile.default_content_settings\"] = {\"images\": 2}\n",
    "chrome_prefs[\"profile.managed_default_content_settings\"] = {\"images\": 2}\n",
    "\n",
    "options = webdriver.ChromeOptions()\n",
    "options.add_experimental_option(\"excludeSwitches\", [\"enable-logging\"])\n",
    "\n",
    "driver = webdriver.Chrome(executable_path='chromedriver.exe', options=options)"
   ]
  },
  {
   "cell_type": "code",
   "execution_count": 3,
   "metadata": {},
   "outputs": [],
   "source": [
    "##Function to allow multiple choices without eating resources, sacrifices time\n",
    "def Destiny_Takeoff(port, price):\n",
    "    url = \"https://www.despegar.cl/vuelos/SCL/\" + port\n",
    "    driver.get(url)\n",
    "    wait = WebDriverWait(driver, 20)\n",
    "    driver.get(url)\n",
    "    wait = WebDriverWait(driver, 20)\n",
    "    time.sleep(5)\n",
    "    precios_aux = driver.find_elements_by_xpath('//*[@id=\"clusters\"]/span[1]/div/span/reduced-cluster/div/div/div/div/div[2]/span[2]/div/div/div/span[2]')\n",
    "    if(len(precios_aux) <= 0):\n",
    "        precios_aux = driver.find_elements_by_xpath('//div/span/span/cluster/div/div/div[2]/fare/ span/ span/main-fare')\n",
    "    if(len(precios_aux) > 0):\n",
    "        price = precios_aux[0].get_attribute('textContent')\n",
    "    if price == \"\":\n",
    "        price = \"Vuelo no disponible\"\n",
    "    return(url, price)"
   ]
  },
  {
   "cell_type": "code",
   "execution_count": 9,
   "metadata": {},
   "outputs": [
    {
     "name": "stdout",
     "output_type": "stream",
     "text": [
      "('https://www.despegar.cl/vuelos/SCL/SIN', '966.434')\n",
      "('https://www.despegar.cl/vuelos/SCL/KUL', 'Vuelo no disponible')\n",
      "('https://www.despegar.cl/vuelos/SCL/BKK', '819.942')\n",
      "('https://www.despegar.cl/vuelos/SCL/TPE', '1.344.753')\n",
      "('https://www.despegar.cl/vuelos/SCL/TSA', '1.344.753')\n",
      "('https://www.despegar.cl/vuelos/SCL/ICM', 'Vuelo no disponible')\n",
      "('https://www.despegar.cl/vuelos/SCL/GMP', '860.309')\n",
      "('https://www.despegar.cl/vuelos/SCL/HNK', 'Vuelo no disponible')\n",
      "('https://www.despegar.cl/vuelos/SCL/PVG', '1.323.315')\n",
      "('https://www.despegar.cl/vuelos/SCL/SHA', '1.323.315')\n",
      "('https://www.despegar.cl/vuelos/SCL/MFM', 'Vuelo no disponible')\n"
     ]
    }
   ],
   "source": [
    "target = ['SIN', 'KUL', 'BKK', 'TPE', 'TSA', 'ICM', 'GMP', 'HNK', 'PVG', 'SHA', 'MFM']\n",
    "for i in target:\n",
    "    print(Destiny_Takeoff(i, price))"
   ]
  },
  {
   "cell_type": "code",
   "execution_count": 6,
   "metadata": {
    "scrolled": false
   },
   "outputs": [
    {
     "name": "stdout",
     "output_type": "stream",
     "text": [
      "Ingrese el código del destino: SIN\n",
      "('https://www.despegar.cl/vuelos/SCL/SIN', '966.434')\n"
     ]
    }
   ],
   "source": [
    "##Manual input for testing purposes\n",
    "port = str(input(\"Ingrese el código del destino: \"))\n",
    "print(Destiny_Takeoff(port, price))"
   ]
  },
  {
   "cell_type": "code",
   "execution_count": 7,
   "metadata": {
    "scrolled": true
   },
   "outputs": [
    {
     "name": "stdout",
     "output_type": "stream",
     "text": [
      "['SIN', 'KUL', 'BKK', 'TPE', 'TSA', 'ICM', 'GMP', 'HNK', 'PVG', 'SHA', 'MFM']\n"
     ]
    }
   ],
   "source": [
    "##Read of the saving point\n",
    "with open('TravelDestinies.csv', \"r+\") as f:\n",
    "    reader = csv.reader(f)\n",
    "    for i in reader:\n",
    "        target += [i]\n",
    "target[0][0] = target[0][0].split(\";\")\n",
    "target = target[0]\n",
    "target = target[0]\n",
    "print(target)  "
   ]
  },
  {
   "cell_type": "code",
   "execution_count": null,
   "metadata": {},
   "outputs": [],
   "source": [
    "##WIP of the consulted destination's price and URL saving point\n",
    "writer = csv.writer(f)\n",
    "\n",
    "writer.writerow([???])"
   ]
  }
 ],
 "metadata": {
  "kernelspec": {
   "display_name": "Python 3",
   "language": "python",
   "name": "python3"
  },
  "language_info": {
   "codemirror_mode": {
    "name": "ipython",
    "version": 3
   },
   "file_extension": ".py",
   "mimetype": "text/x-python",
   "name": "python",
   "nbconvert_exporter": "python",
   "pygments_lexer": "ipython3",
   "version": "3.7.1"
  }
 },
 "nbformat": 4,
 "nbformat_minor": 2
}
